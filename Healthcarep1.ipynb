{
 "cells": [
  {
   "cell_type": "markdown",
   "id": "361101ab-2f65-444e-9f0b-2914e656971d",
   "metadata": {},
   "source": [
    "# Project Title : Healthcare Claims and Pharmaceutical Analysis Using ICD-11 Codes"
   ]
  },
  {
   "cell_type": "code",
   "execution_count": 1,
   "id": "71233d0e-5e5e-454b-a87b-2492e7b51d4e",
   "metadata": {},
   "outputs": [
    {
     "name": "stdout",
     "output_type": "stream",
     "text": [
      "     Claim ID  Provider ID  Patient ID Date of Service  Billed Amount  \\\n",
      "0  0HO1FSN4AP    126528997  7936697103        8/7/2024            304   \n",
      "1  9U86CI2P5A   6986719948  1547160031       6/21/2024            348   \n",
      "2  1QEU1AIDAU   1355108115  2611585318        7/4/2024            235   \n",
      "3  WH7XDS8CEO   9991055906  7167948632       5/26/2024            112   \n",
      "4  M6OJEZ8KGI   7382167012  2140226267       7/16/2024            406   \n",
      "\n",
      "   Procedure Code Diagnosis Code  Allowed Amount  Paid Amount Insurance Type  \\\n",
      "0           99231          A02.1             218          203       Self-Pay   \n",
      "1           99213          A16.5             216          206       Medicare   \n",
      "2           99213          A00.1             148          119     Commercial   \n",
      "3           99215          A18.6              79           69       Medicare   \n",
      "4           99238          A17.9             320          259       Medicare   \n",
      "\n",
      "   Claim Status                    Reason Code Follow-up Required  \\\n",
      "0          Paid  Incorrect billing information                Yes   \n",
      "1          Paid         Pre-existing condition                Yes   \n",
      "2  Under Review                Duplicate claim                 No   \n",
      "3        Denied     Authorization not obtained                 No   \n",
      "4        Denied     Authorization not obtained                 No   \n",
      "\n",
      "        AR Status         Outcome  \n",
      "0         Pending  Partially Paid  \n",
      "1            Open          Denied  \n",
      "2          Denied          Denied  \n",
      "3  Partially Paid          Denied  \n",
      "4         On Hold          Denied  \n",
      "                                        PRODUCTID PRODUCTNDC  \\\n",
      "0  0002-1200_4bd46cbe-cdc1-4329-a8e7-22816bd7fc33  0002-1200   \n",
      "1  0002-1407_14757f9d-f641-4836-acf3-229265588d1d  0002-1407   \n",
      "2  0002-1433_aaae85ae-9295-465f-b938-463b74b8d5bd  0002-1433   \n",
      "3  0002-1434_aaae85ae-9295-465f-b938-463b74b8d5bd  0002-1434   \n",
      "4  0002-1445_2ecde4c5-5128-4725-9cf5-64384857eb1c  0002-1445   \n",
      "\n",
      "           PRODUCTTYPENAME      PROPRIETARYNAME PROPRIETARYNAMESUFFIX  \\\n",
      "0  HUMAN PRESCRIPTION DRUG               Amyvid                   NaN   \n",
      "1  HUMAN PRESCRIPTION DRUG  Quinidine Gluconate                   NaN   \n",
      "2  HUMAN PRESCRIPTION DRUG            Trulicity                   NaN   \n",
      "3  HUMAN PRESCRIPTION DRUG            Trulicity                   NaN   \n",
      "4  HUMAN PRESCRIPTION DRUG                TALTZ                   NaN   \n",
      "\n",
      "    NONPROPRIETARYNAME       DOSAGEFORMNAME     ROUTENAME  STARTMARKETINGDATE  \\\n",
      "0     Florbetapir F 18  INJECTION, SOLUTION   INTRAVENOUS          20120601.0   \n",
      "1  Quinidine Gluconate             SOLUTION   INTRAVENOUS          19500712.0   \n",
      "2          Dulaglutide  INJECTION, SOLUTION  SUBCUTANEOUS          20141107.0   \n",
      "3          Dulaglutide  INJECTION, SOLUTION  SUBCUTANEOUS          20141107.0   \n",
      "4           ixekizumab  INJECTION, SOLUTION  SUBCUTANEOUS          20160322.0   \n",
      "\n",
      "   ENDMARKETINGDATE MARKETINGCATEGORYNAME APPLICATIONNUMBER  \\\n",
      "0               NaN                   NDA         NDA202008   \n",
      "1               NaN                   NDA         NDA007529   \n",
      "2               NaN                   BLA         BLA125469   \n",
      "3               NaN                   BLA         BLA125469   \n",
      "4               NaN                   BLA         BLA125521   \n",
      "\n",
      "             LABELERNAME        SUBSTANCENAME ACTIVE_NUMERATOR_STRENGTH  \\\n",
      "0  Eli Lilly and Company     FLORBETAPIR F-18                        51   \n",
      "1  Eli Lilly and Company  QUINIDINE GLUCONATE                        80   \n",
      "2  Eli Lilly and Company          DULAGLUTIDE                      0.75   \n",
      "3  Eli Lilly and Company          DULAGLUTIDE                       1.5   \n",
      "4  Eli Lilly and Company           IXEKIZUMAB                        80   \n",
      "\n",
      "  ACTIVE_INGRED_UNIT                                      PHARM_CLASSES  \\\n",
      "0             mCi/mL  Radioactive Diagnostic Agent [EPC],Positron Em...   \n",
      "1              mg/mL  Antiarrhythmic [EPC],Cytochrome P450 2D6 Inhib...   \n",
      "2            mg/.5mL  GLP-1 Receptor Agonist [EPC],Glucagon-Like Pep...   \n",
      "3            mg/.5mL  GLP-1 Receptor Agonist [EPC],Glucagon-Like Pep...   \n",
      "4              mg/mL  Interleukin-17A Antagonist [EPC],Interleukin-1...   \n",
      "\n",
      "  DEASCHEDULE  \n",
      "0         NaN  \n",
      "1         NaN  \n",
      "2         NaN  \n",
      "3         NaN  \n",
      "4         NaN  \n",
      "     Code                                              Title\n",
      "0    1A00                                            Cholera\n",
      "1    1A01           Intestinal infection due to other Vibrio\n",
      "2    1A02              Intestinal infections due to Shigella\n",
      "3    1A03        Intestinal infections due to Escherichia...\n",
      "4  1A03.0          Enteropathogenic Escherichia coli infe...\n"
     ]
    }
   ],
   "source": [
    "import pandas as pd\n",
    "# Loading data\n",
    "claims = pd.read_csv('claims_data.csv')\n",
    "pharma = pd.read_csv('Pharma_data.csv', encoding = 'ISO-8859-1', low_memory = False)\n",
    "icd11 = pd.read_csv('icd11 codes.csv')\n",
    "\n",
    "# Show first 5 rows\n",
    "print(claims.head())\n",
    "print(pharma.head())\n",
    "print(icd11.head())\n",
    "\n",
    "claims_sample = claims.sample(n = 60, random_state = 42)\n",
    "pharma_sample = pharma.sample(n = 60, random_state = 42)"
   ]
  },
  {
   "cell_type": "code",
   "execution_count": 2,
   "id": "a2d89d41-9dcb-4f6a-ad75-6ea33ea06b94",
   "metadata": {},
   "outputs": [
    {
     "name": "stdout",
     "output_type": "stream",
     "text": [
      "<class 'pandas.core.frame.DataFrame'>\n",
      "Index: 60 entries, 521 to 820\n",
      "Data columns (total 15 columns):\n",
      " #   Column              Non-Null Count  Dtype \n",
      "---  ------              --------------  ----- \n",
      " 0   Claim ID            60 non-null     object\n",
      " 1   Provider ID         60 non-null     int64 \n",
      " 2   Patient ID          60 non-null     int64 \n",
      " 3   Date of Service     60 non-null     object\n",
      " 4   Billed Amount       60 non-null     int64 \n",
      " 5   Procedure Code      60 non-null     int64 \n",
      " 6   Diagnosis Code      60 non-null     object\n",
      " 7   Allowed Amount      60 non-null     int64 \n",
      " 8   Paid Amount         60 non-null     int64 \n",
      " 9   Insurance Type      60 non-null     object\n",
      " 10  Claim Status        60 non-null     object\n",
      " 11  Reason Code         60 non-null     object\n",
      " 12  Follow-up Required  60 non-null     object\n",
      " 13  AR Status           60 non-null     object\n",
      " 14  Outcome             60 non-null     object\n",
      "dtypes: int64(6), object(9)\n",
      "memory usage: 7.5+ KB\n",
      "None\n",
      "<class 'pandas.core.frame.DataFrame'>\n",
      "Index: 60 entries, 84965 to 90967\n",
      "Data columns (total 18 columns):\n",
      " #   Column                     Non-Null Count  Dtype  \n",
      "---  ------                     --------------  -----  \n",
      " 0   PRODUCTID                  14 non-null     object \n",
      " 1   PRODUCTNDC                 14 non-null     object \n",
      " 2   PRODUCTTYPENAME            14 non-null     object \n",
      " 3   PROPRIETARYNAME            14 non-null     object \n",
      " 4   PROPRIETARYNAMESUFFIX      3 non-null      object \n",
      " 5   NONPROPRIETARYNAME         14 non-null     object \n",
      " 6   DOSAGEFORMNAME             14 non-null     object \n",
      " 7   ROUTENAME                  13 non-null     object \n",
      " 8   STARTMARKETINGDATE         14 non-null     float64\n",
      " 9   ENDMARKETINGDATE           1 non-null      float64\n",
      " 10  MARKETINGCATEGORYNAME      14 non-null     object \n",
      " 11  APPLICATIONNUMBER          12 non-null     object \n",
      " 12  LABELERNAME                14 non-null     object \n",
      " 13  SUBSTANCENAME              13 non-null     object \n",
      " 14  ACTIVE_NUMERATOR_STRENGTH  13 non-null     object \n",
      " 15  ACTIVE_INGRED_UNIT         13 non-null     object \n",
      " 16  PHARM_CLASSES              7 non-null      object \n",
      " 17  DEASCHEDULE                2 non-null      object \n",
      "dtypes: float64(2), object(16)\n",
      "memory usage: 8.9+ KB\n",
      "None\n",
      "<class 'pandas.core.frame.DataFrame'>\n",
      "RangeIndex: 34663 entries, 0 to 34662\n",
      "Data columns (total 2 columns):\n",
      " #   Column  Non-Null Count  Dtype \n",
      "---  ------  --------------  ----- \n",
      " 0   Code    34663 non-null  object\n",
      " 1   Title   34663 non-null  object\n",
      "dtypes: object(2)\n",
      "memory usage: 541.7+ KB\n",
      "None\n",
      "Claim ID              0\n",
      "Provider ID           0\n",
      "Patient ID            0\n",
      "Date of Service       0\n",
      "Billed Amount         0\n",
      "Procedure Code        0\n",
      "Diagnosis Code        0\n",
      "Allowed Amount        0\n",
      "Paid Amount           0\n",
      "Insurance Type        0\n",
      "Claim Status          0\n",
      "Reason Code           0\n",
      "Follow-up Required    0\n",
      "AR Status             0\n",
      "Outcome               0\n",
      "dtype: int64\n",
      "PRODUCTID                    46\n",
      "PRODUCTNDC                   46\n",
      "PRODUCTTYPENAME              46\n",
      "PROPRIETARYNAME              46\n",
      "PROPRIETARYNAMESUFFIX        57\n",
      "NONPROPRIETARYNAME           46\n",
      "DOSAGEFORMNAME               46\n",
      "ROUTENAME                    47\n",
      "STARTMARKETINGDATE           46\n",
      "ENDMARKETINGDATE             59\n",
      "MARKETINGCATEGORYNAME        46\n",
      "APPLICATIONNUMBER            48\n",
      "LABELERNAME                  46\n",
      "SUBSTANCENAME                47\n",
      "ACTIVE_NUMERATOR_STRENGTH    47\n",
      "ACTIVE_INGRED_UNIT           47\n",
      "PHARM_CLASSES                53\n",
      "DEASCHEDULE                  58\n",
      "dtype: int64\n",
      "Code     0\n",
      "Title    0\n",
      "dtype: int64\n"
     ]
    }
   ],
   "source": [
    "# Data Understanding\n",
    "print(claims_sample.info())\n",
    "print(pharma_sample.info())\n",
    "print(icd11.info())\n",
    "\n",
    "# Checking for null values\n",
    "print(claims_sample.isnull().sum())\n",
    "print(pharma_sample.isnull().sum())\n",
    "print(icd11.isnull().sum())"
   ]
  },
  {
   "cell_type": "code",
   "execution_count": 3,
   "id": "14061622-1683-478e-8578-5904b7d1d5cd",
   "metadata": {
    "scrolled": true
   },
   "outputs": [],
   "source": [
    "# Data Cleaning\n",
    "# Drop rows with missing values\n",
    "claims_clean = claims_sample.dropna()\n",
    "pharma_clean = pharma_sample.dropna()\n",
    "# Removing dupliates and null icd values\n",
    "icd11.columns = ['icd11', 'description']\n",
    "icd11_clean = icd11.dropna(subset=['icd11', 'description']).drop_duplicates(subset=['icd11'])\n",
    "\n",
    "# Converting date to proper format\n",
    "claims_clean['Date of Service'] = pd.to_datetime(claims_clean['Date of Service'], errors = 'coerce')\n",
    "#pharma_clean['prescription_date'] = pd.to_datetime(pharma_clean['prescription_date'], errors = 'coerce')"
   ]
  },
  {
   "cell_type": "code",
   "execution_count": 4,
   "id": "01917f0d-402c-4886-8edd-97b330308b81",
   "metadata": {},
   "outputs": [
    {
     "name": "stdout",
     "output_type": "stream",
     "text": [
      "   Patient ID Diagnosis Code description Date of Service  Paid Amount\n",
      "0   978804224          A08.8         NaN      2024-06-26          174\n",
      "1   915802079          A18.8         NaN      2024-08-30           93\n",
      "2  8971633114          A05.7         NaN      2024-09-05          149\n",
      "3   106059983          A17.8         NaN      2024-06-29          176\n",
      "4  9299849039          A18.4         NaN      2024-08-02          141\n"
     ]
    }
   ],
   "source": [
    "# Data Integration\n",
    "# Anlalyzing the relationship between 3 datasets\n",
    "# lets merge claims data and icd11\n",
    "# Rename for a smoother join\n",
    "icd11_clean.rename(columns={'icd11': 'Diagnosis Code'}, inplace=True)\n",
    "# Merge diagnosis descriptions into claims data\n",
    "claims_merged = claims_clean.merge(icd11_clean, on='Diagnosis Code', how='left')\n",
    "# Preview important columns\n",
    "print(claims_merged[['Patient ID', 'Diagnosis Code', 'description', 'Date of Service', 'Paid Amount']].head())\n"
   ]
  },
  {
   "cell_type": "code",
   "execution_count": 11,
   "id": "ce8a98d8-ac29-4a3d-8b2f-ed394f7ec072",
   "metadata": {},
   "outputs": [
    {
     "data": {
      "image/png": "[encoded data removed]",
      "text/plain": [
       "<Figure size 800x400 with 1 Axes>"
      ]
     },
     "metadata": {},
     "output_type": "display_data"
    }
   ],
   "source": [
    "# Exploratory Data Analysis\n",
    "# 1. Total Paid Amount by Insurance Type\n",
    "insurance_cost = claims_merged.groupby('Insurance Type')['Paid Amount'].sum().sort_values(ascending=False)\n",
    "\n",
    "plt.figure(figsize=(8,4))\n",
    "sns.barplot(x=insurance_cost.values, y=insurance_cost.index)\n",
    "plt.title('Total Paid Amount by Insurance Type')\n",
    "plt.xlabel('Total Paid Amount')\n",
    "plt.ylabel('Insurance Type')\n",
    "plt.tight_layout()\n",
    "plt.show()"
   ]
  },
  {
   "cell_type": "code",
   "execution_count": 12,
   "id": "8cb953ee-237e-4faf-8465-2f69847a51e5",
   "metadata": {},
   "outputs": [
    {
     "data": {
      "image/png": "[encoded data removed]",
      "text/plain": [
       "<Figure size 600x400 with 1 Axes>"
      ]
     },
     "metadata": {},
     "output_type": "display_data"
    }
   ],
   "source": [
    "# 2. Follow-up required?\n",
    "follow_up_count = claims_merged['Follow-up Required'].value_counts()\n",
    "\n",
    "plt.figure(figsize=(6,4))\n",
    "sns.barplot(x=follow_up_count.index, y=follow_up_count.values)\n",
    "plt.title('Follow-up Required (Yes/No)')\n",
    "plt.xlabel('Follow-up Required')\n",
    "plt.ylabel('Number of Claims')\n",
    "plt.tight_layout()\n",
    "plt.show()"
   ]
  },
  {
   "cell_type": "code",
   "execution_count": 39,
   "id": "eb10067c-8aa1-4f1a-8994-64af32cc6577",
   "metadata": {},
   "outputs": [
    {
     "name": "stdout",
     "output_type": "stream",
     "text": [
      "Total Paid Amount: 11051\n",
      "184.18333333333334\n",
      "28.333333333333332\n",
      "50.0\n",
      "Insurance Type\n",
      "Medicaid      3920\n",
      "Commercial    2843\n",
      "Medicare      2191\n",
      "Self-Pay      2097\n",
      "Name: Paid Amount, dtype: int64\n",
      "Medicaid\n",
      "3920\n"
     ]
    }
   ],
   "source": [
    "# Definign Key KPI's\n",
    "# The top 5 KPI's are Total Paid Amount, Avg paid amount per claim\n",
    "# Claim Approval Rate, Follow-up Rate, Insurance Type with Highest Payout\n",
    "\n",
    "total_paid = claims_clean['Paid Amount'].sum()\n",
    "avg_paid = claims_clean['Paid Amount'].mean()\n",
    "approval_rate = (claims_clean['Claim Status'] == 'Paid').mean()*100\n",
    "followup_rate = (claims_clean['Follow-up Required'] == 'Yes').mean()*100\n",
    "insurance_payouts = claims_clean.groupby('Insurance Type')['Paid Amount'].sum().sort_values(ascending=False)\n",
    "top_insurance = insurance_payouts.idxmax()\n",
    "top_insurance_value = insurance_payouts.max()\n",
    "print('Total Paid Amount:', total_paid)\n",
    "print(avg_paid)\n",
    "print(approval_rate)\n",
    "print(followup_rate)\n",
    "print(insurance_payouts)\n",
    "print(top_insurance)\n",
    "print(top_insurance_value)"
   ]
  }
 ],
 "metadata": {
  "kernelspec": {
   "display_name": "Python 3 (ipykernel)",
   "language": "python",
   "name": "python3"
  },
  "language_info": {
   "codemirror_mode": {
    "name": "ipython",
    "version": 3
   },
   "file_extension": ".py",
   "mimetype": "text/x-python",
   "name": "python",
   "nbconvert_exporter": "python",
   "pygments_lexer": "ipython3",
   "version": "3.12.0"
  }
 },
 "nbformat": 4,
 "nbformat_minor": 5
}
